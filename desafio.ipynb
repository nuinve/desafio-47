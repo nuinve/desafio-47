{
 "cells": [
  {
   "cell_type": "markdown",
   "metadata": {},
   "source": [
    "1 - acessando os dados da planilha para analise"
   ]
  },
  {
   "cell_type": "code",
   "execution_count": 8,
   "metadata": {},
   "outputs": [
    {
     "data": {
      "text/html": [
       "<div>\n",
       "<style scoped>\n",
       "    .dataframe tbody tr th:only-of-type {\n",
       "        vertical-align: middle;\n",
       "    }\n",
       "\n",
       "    .dataframe tbody tr th {\n",
       "        vertical-align: top;\n",
       "    }\n",
       "\n",
       "    .dataframe thead th {\n",
       "        text-align: right;\n",
       "    }\n",
       "</style>\n",
       "<table border=\"1\" class=\"dataframe\">\n",
       "  <thead>\n",
       "    <tr style=\"text-align: right;\">\n",
       "      <th></th>\n",
       "      <th>Dias da semana</th>\n",
       "      <th>Matérias</th>\n",
       "      <th>Alunos presentes</th>\n",
       "      <th>Alunos com falta</th>\n",
       "    </tr>\n",
       "  </thead>\n",
       "  <tbody>\n",
       "    <tr>\n",
       "      <th>0</th>\n",
       "      <td>Segunda-feira</td>\n",
       "      <td>Português</td>\n",
       "      <td>29</td>\n",
       "      <td>1</td>\n",
       "    </tr>\n",
       "    <tr>\n",
       "      <th>1</th>\n",
       "      <td>Terça-feira</td>\n",
       "      <td>Matemática</td>\n",
       "      <td>25</td>\n",
       "      <td>5</td>\n",
       "    </tr>\n",
       "    <tr>\n",
       "      <th>2</th>\n",
       "      <td>Quarta-feira</td>\n",
       "      <td>História</td>\n",
       "      <td>28</td>\n",
       "      <td>2</td>\n",
       "    </tr>\n",
       "    <tr>\n",
       "      <th>3</th>\n",
       "      <td>Quinta-feira</td>\n",
       "      <td>Geográfia</td>\n",
       "      <td>24</td>\n",
       "      <td>7</td>\n",
       "    </tr>\n",
       "    <tr>\n",
       "      <th>4</th>\n",
       "      <td>Sexta-feira</td>\n",
       "      <td>Quimica</td>\n",
       "      <td>22</td>\n",
       "      <td>9</td>\n",
       "    </tr>\n",
       "    <tr>\n",
       "      <th>5</th>\n",
       "      <td>Sábado</td>\n",
       "      <td>Inglês</td>\n",
       "      <td>18</td>\n",
       "      <td>13</td>\n",
       "    </tr>\n",
       "  </tbody>\n",
       "</table>\n",
       "</div>"
      ],
      "text/plain": [
       "  Dias da semana    Matérias  Alunos presentes  Alunos com falta\n",
       "0  Segunda-feira   Português                29                 1\n",
       "1    Terça-feira  Matemática                25                 5\n",
       "2   Quarta-feira    História                28                 2\n",
       "3   Quinta-feira   Geográfia                24                 7\n",
       "4    Sexta-feira     Quimica                22                 9\n",
       "5         Sábado      Inglês                18                13"
      ]
     },
     "metadata": {},
     "output_type": "display_data"
    }
   ],
   "source": [
    "import pandas as pd\n",
    "arquivo = pd.read_excel(\"cursinho.xlsx\")\n",
    "display(arquivo)"
   ]
  },
  {
   "cell_type": "markdown",
   "metadata": {},
   "source": [
    "2- filtragem dos dados\n",
    "coisas q pretendo saber: maior e menor n° de frequencia por materia "
   ]
  },
  {
   "cell_type": "code",
   "execution_count": 32,
   "metadata": {},
   "outputs": [
    {
     "data": {
      "text/html": [
       "<div>\n",
       "<style scoped>\n",
       "    .dataframe tbody tr th:only-of-type {\n",
       "        vertical-align: middle;\n",
       "    }\n",
       "\n",
       "    .dataframe tbody tr th {\n",
       "        vertical-align: top;\n",
       "    }\n",
       "\n",
       "    .dataframe thead th {\n",
       "        text-align: right;\n",
       "    }\n",
       "</style>\n",
       "<table border=\"1\" class=\"dataframe\">\n",
       "  <thead>\n",
       "    <tr style=\"text-align: right;\">\n",
       "      <th></th>\n",
       "      <th>Matérias com maior presença</th>\n",
       "      <th>Número de presentes</th>\n",
       "      <th>Matérias com maior falta</th>\n",
       "      <th>Número de faltas</th>\n",
       "    </tr>\n",
       "  </thead>\n",
       "  <tbody>\n",
       "    <tr>\n",
       "      <th>0</th>\n",
       "      <td>Português</td>\n",
       "      <td>29</td>\n",
       "      <td>Inglês</td>\n",
       "      <td>13</td>\n",
       "    </tr>\n",
       "  </tbody>\n",
       "</table>\n",
       "</div>"
      ],
      "text/plain": [
       "  Matérias com maior presença  Número de presentes Matérias com maior falta  \\\n",
       "0                   Português                   29                   Inglês   \n",
       "\n",
       "   Número de faltas  \n",
       "0                13  "
      ]
     },
     "execution_count": 32,
     "metadata": {},
     "output_type": "execute_result"
    }
   ],
   "source": [
    "def frequencia(arquivo):\n",
    "    \n",
    "    materia_mais_presentes = []\n",
    "    max_presentes = 0\n",
    "    materia_maior_falta = []\n",
    "    max_falta = 0\n",
    "\n",
    "    # Iterando sobre as linhas da tabela\n",
    "    for index, row in arquivo.iterrows():\n",
    "        if row['Alunos presentes'] > max_presentes:\n",
    "            max_presentes = row['Alunos presentes']\n",
    "            materia_mais_presentes = [row['Matérias']]\n",
    "        elif row['Alunos presentes'] == max_presentes:\n",
    "            materia_mais_presentes.append(row['Matérias'])\n",
    "\n",
    "        if row['Alunos com falta'] > max_falta:\n",
    "            max_falta = row['Alunos com falta']\n",
    "            materia_maior_falta = [row['Matérias']]\n",
    "        elif row['Alunos com falta'] == max_falta:\n",
    "            materia_maior_falta.append(row['Matérias'])\n",
    "\n",
    "    # novo DataFrame com os resultados\n",
    "    nova_tabela = pd.DataFrame({\n",
    "        'Matérias com maior presença': materia_mais_presentes,\n",
    "        'Número de presentes': max_presentes,\n",
    "        'Matérias com maior falta': materia_maior_falta,\n",
    "        'Número de faltas': max_falta\n",
    "    }, index=[0])\n",
    "\n",
    "    return nova_tabela\n",
    "\n",
    "\n",
    "arquivo = pd.read_excel('cursinho.xlsx')\n",
    "\n",
    "\n",
    "resultado = frequencia(arquivo)\n",
    "resultado.to_excel('frequencia.xlsx', index=False)\n",
    "\n",
    "frequencia(arquivo)\n"
   ]
  }
 ],
 "metadata": {
  "kernelspec": {
   "display_name": "Python 3",
   "language": "python",
   "name": "python3"
  },
  "language_info": {
   "codemirror_mode": {
    "name": "ipython",
    "version": 3
   },
   "file_extension": ".py",
   "mimetype": "text/x-python",
   "name": "python",
   "nbconvert_exporter": "python",
   "pygments_lexer": "ipython3",
   "version": "3.12.4"
  }
 },
 "nbformat": 4,
 "nbformat_minor": 2
}
